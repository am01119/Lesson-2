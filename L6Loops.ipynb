{
 "cells": [
  {
   "cell_type": "code",
   "execution_count": null,
   "metadata": {},
   "outputs": [],
   "source": [
    "username = 'naija'\n",
    "\n",
    "user = input('Enter username: ')\n",
    "\n",
    "\n",
    "    while user != 'naija':\n",
    "    user = input('Enter username: ')\n",
    "    \n",
    "else:\n",
    "    print('Welcome to the portal')"
   ]
  },
  {
   "cell_type": "code",
   "execution_count": 13,
   "metadata": {},
   "outputs": [
    {
     "name": "stdout",
     "output_type": "stream",
     "text": [
      "What is your username: fghf\n",
      "What is your username: alameen\n",
      "What is your username: ala\n",
      "Would you like to retrieve your username?\n",
      "Login successful\n"
     ]
    }
   ],
   "source": [
    "username = 'manjoe'\n",
    "trial = 0\n",
    "log_me = input('What is your username: ')\n",
    "\n",
    "while log_me != username and trial < 2:\n",
    "    trial += 1\n",
    "    log_me = input('What is your username: ')\n",
    "else:\n",
    "    print('Would you like to retrieve your username?')\n",
    "\n",
    "print('Login successful')\n",
    "    \n",
    "    \n",
    "    \n",
    "    \n",
    "    "
   ]
  },
  {
   "cell_type": "code",
   "execution_count": null,
   "metadata": {},
   "outputs": [],
   "source": []
  }
 ],
 "metadata": {
  "kernelspec": {
   "display_name": "Python 3",
   "language": "python",
   "name": "python3"
  },
  "language_info": {
   "codemirror_mode": {
    "name": "ipython",
    "version": 3
   },
   "file_extension": ".py",
   "mimetype": "text/x-python",
   "name": "python",
   "nbconvert_exporter": "python",
   "pygments_lexer": "ipython3",
   "version": "3.6.5"
  }
 },
 "nbformat": 4,
 "nbformat_minor": 2
}
