{
 "cells": [
  {
   "cell_type": "code",
   "execution_count": 9,
   "metadata": {},
   "outputs": [
    {
     "name": "stdout",
     "output_type": "stream",
     "text": [
      "Hello and welcome to Gmail, please sign in to continue\n",
      "Please provide your username: \n",
      "assa\n",
      "Please provide your username: \n",
      "adda\n",
      "Please provide your username: \n",
      "adad\n",
      "Find your username here: \n",
      "Am01119\n",
      "Am02229\n",
      "Please provide your username: \n",
      "Am01119\n",
      "Please provide your password: \n",
      "assa\n",
      "Please provide your password: \n",
      "dad\n",
      "Please provide your password: \n",
      "dad\n",
      "What is your favourite football team?Manchester United\n",
      "Login successful\n"
     ]
    }
   ],
   "source": [
    "Profiles = {\n",
    "    'Am01119':['Moh123','Manchester United'],\n",
    "    'Am02229':['Abba123','Arsenal'],\n",
    "    \n",
    "}\n",
    "\n",
    "\n",
    "print('Hello and welcome to Gmail, please sign in to continue')\n",
    "\n",
    "p_user = input('Please provide your username: \\n')\n",
    "trials = 0\n",
    "if p_user in Profiles:\n",
    "    p_pword = input('Please provide your password: \\n')\n",
    "    if p_pword == Profiles[p_user][0]:\n",
    "        print('Login succesful.')\n",
    "    else:\n",
    "        while p_pword != Profiles[p_user][0] and trials < 2:\n",
    "            trials += 1\n",
    "            p_pword = input('Please provide your password: \\n')\n",
    "        else:\n",
    "            answer = input('What is your favourite football team?')\n",
    "            if answer == Profiles[p_user][1]:\n",
    "                print('Login successful')\n",
    "            else: \n",
    "                raise SystemExit('Login terminated')\n",
    "\n",
    "else:\n",
    "    while p_user not in Profiles and trials < 2:\n",
    "        trials += 1\n",
    "        p_user = input('Please provide your username: \\n')\n",
    "    else:\n",
    "        print(\"Find your username here: \")\n",
    "        for username in Profiles:\n",
    "            print(username)\n",
    "        p_user = input('Please provide your username: \\n')\n",
    "        if p_user in Profiles:\n",
    "            p_pword = input('Please provide your password: \\n')\n",
    "            if p_pword == Profiles[p_user][0]:\n",
    "                print('Login succesful.')\n",
    "            else:\n",
    "                while p_pword != Profiles[p_user][0] and trials < 4:\n",
    "                    trials += 1\n",
    "                    p_pword = input('Please provide your password: \\n')\n",
    "                else:\n",
    "                    answer = input('What is your favourite football team?')\n",
    "                    if answer == Profiles[p_user][1]:\n",
    "                        print('Login successful')\n",
    "                    else: \n",
    "                        raise SystemExit('Login terminated')\n",
    "            \n",
    "        \n",
    "            "
   ]
  },
  {
   "cell_type": "code",
   "execution_count": null,
   "metadata": {},
   "outputs": [],
   "source": []
  },
  {
   "cell_type": "code",
   "execution_count": null,
   "metadata": {},
   "outputs": [],
   "source": []
  },
  {
   "cell_type": "code",
   "execution_count": null,
   "metadata": {},
   "outputs": [],
   "source": []
  }
 ],
 "metadata": {
  "kernelspec": {
   "display_name": "Python 3",
   "language": "python",
   "name": "python3"
  },
  "language_info": {
   "codemirror_mode": {
    "name": "ipython",
    "version": 3
   },
   "file_extension": ".py",
   "mimetype": "text/x-python",
   "name": "python",
   "nbconvert_exporter": "python",
   "pygments_lexer": "ipython3",
   "version": "3.6.5"
  }
 },
 "nbformat": 4,
 "nbformat_minor": 2
}
