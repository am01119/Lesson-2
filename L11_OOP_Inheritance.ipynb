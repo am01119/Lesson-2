{
 "cells": [
  {
   "cell_type": "code",
   "execution_count": 1,
   "metadata": {},
   "outputs": [],
   "source": [
    "class Automobile():\n",
    "    def __init__(self):\n",
    "        print('This is the main vehicle')\n",
    "    def class_method(self):\n",
    "        print('This is a class method in automobile')    "
   ]
  },
  {
   "cell_type": "code",
   "execution_count": 24,
   "metadata": {},
   "outputs": [],
   "source": [
    "class Toyota(Automobile):\n",
    "    def __init__(self):\n",
    "        Automobile.__init__(self)\n",
    "        print('This is a 4WD')"
   ]
  },
  {
   "cell_type": "code",
   "execution_count": 25,
   "metadata": {},
   "outputs": [
    {
     "name": "stdout",
     "output_type": "stream",
     "text": [
      "This is the main vehicle\n"
     ]
    }
   ],
   "source": [
    "auto1 = Automobile()"
   ]
  },
  {
   "cell_type": "code",
   "execution_count": 26,
   "metadata": {},
   "outputs": [
    {
     "name": "stdout",
     "output_type": "stream",
     "text": [
      "This is a class method in automobile\n"
     ]
    }
   ],
   "source": [
    "auto1.class_method()"
   ]
  },
  {
   "cell_type": "code",
   "execution_count": 27,
   "metadata": {},
   "outputs": [
    {
     "name": "stdout",
     "output_type": "stream",
     "text": [
      "This is the main vehicle\n",
      "This is a 4WD\n"
     ]
    }
   ],
   "source": [
    "toy1 = Toyota()"
   ]
  },
  {
   "cell_type": "code",
   "execution_count": 28,
   "metadata": {},
   "outputs": [
    {
     "name": "stdout",
     "output_type": "stream",
     "text": [
      "This is a class method in automobile\n"
     ]
    }
   ],
   "source": [
    "toy1.class_method()"
   ]
  },
  {
   "cell_type": "code",
   "execution_count": 30,
   "metadata": {},
   "outputs": [],
   "source": [
    "#Mainclass: PronetMall\n",
    "    #class attribute: Bonus = 20000\n",
    "    #This is a personnel at Pronet Mall\n",
    "#Subclass: IT and Med\n",
    "    #Monthlypay for IT = 40000\n",
    "    #Monthlypay for HR = 35000\n",
    "    #IT: Salary = monthly_pay + bonus --> method\n",
    "        #Object: James\n",
    "\n",
    "\n"
   ]
  },
  {
   "cell_type": "code",
   "execution_count": 61,
   "metadata": {},
   "outputs": [],
   "source": [
    "class PronetMall():\n",
    "    Bonus = 20000\n",
    "    def __init__(self):\n",
    "        print('This is a personnel at Pronet Mall' )\n",
    "    def salary(self):\n",
    "        pay = self.monthly_pay + self.Bonus\n",
    "        print(f\"The salary for {self.first} {self.last} is {pay}\")\n",
    "    "
   ]
  },
  {
   "cell_type": "code",
   "execution_count": 88,
   "metadata": {},
   "outputs": [],
   "source": [
    "class Technology(PronetMall):\n",
    "    def __init__(self,first,last,monthly_pay):\n",
    "        PronetMall.__init__(self)\n",
    "        self.first = first\n",
    "        self.last = last\n",
    "        self.monthly_pay = monthly_pay\n",
    "        \n",
    "        "
   ]
  },
  {
   "cell_type": "code",
   "execution_count": 91,
   "metadata": {},
   "outputs": [],
   "source": [
    "class HumanRelations(PronetMall):\n",
    "    def __init__(self,first,last,monthly_pay):\n",
    "        PronetMall.__init__(self)\n",
    "        self.first = first\n",
    "        self.last = last\n",
    "        self.monthly_pay = monthly_pay"
   ]
  },
  {
   "cell_type": "code",
   "execution_count": 92,
   "metadata": {},
   "outputs": [
    {
     "name": "stdout",
     "output_type": "stream",
     "text": [
      "This is a personnel at Pronet Mall\n",
      "This is a personnel at Pronet Mall\n"
     ]
    }
   ],
   "source": [
    "Alameen = Technology('Alameen','Mohammed',40000)\n",
    "jamal = HumanRelations('Jamal','Murray',35000)"
   ]
  },
  {
   "cell_type": "code",
   "execution_count": 93,
   "metadata": {},
   "outputs": [
    {
     "name": "stdout",
     "output_type": "stream",
     "text": [
      "This is a personnel at Pronet Mall\n"
     ]
    }
   ],
   "source": [
    "Alameen = Technology('Alameen', 'Mohammed',40000)"
   ]
  },
  {
   "cell_type": "code",
   "execution_count": 95,
   "metadata": {},
   "outputs": [
    {
     "name": "stdout",
     "output_type": "stream",
     "text": [
      "The salary for Alameen Mohammed is 60000\n"
     ]
    }
   ],
   "source": [
    "Alameen.salary()"
   ]
  },
  {
   "cell_type": "code",
   "execution_count": null,
   "metadata": {},
   "outputs": [],
   "source": []
  }
 ],
 "metadata": {
  "kernelspec": {
   "display_name": "Python 3",
   "language": "python",
   "name": "python3"
  },
  "language_info": {
   "codemirror_mode": {
    "name": "ipython",
    "version": 3
   },
   "file_extension": ".py",
   "mimetype": "text/x-python",
   "name": "python",
   "nbconvert_exporter": "python",
   "pygments_lexer": "ipython3",
   "version": "3.6.5"
  }
 },
 "nbformat": 4,
 "nbformat_minor": 2
}
