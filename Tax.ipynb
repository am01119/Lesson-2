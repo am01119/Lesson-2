{
 "cells": [
  {
   "cell_type": "code",
   "execution_count": 14,
   "metadata": {},
   "outputs": [
    {
     "name": "stdout",
     "output_type": "stream",
     "text": [
      "Hello and welcome to the online taxation system.\n",
      "Hello customer, please put in your business name: \n",
      "ala\n",
      "Please put in your business type: \n",
      "corporation\n",
      "Please put in your revenue: \n",
      "12345\n",
      "Invalid input. Please try again.\n"
     ]
    },
    {
     "ename": "NameError",
     "evalue": "name 'balance' is not defined",
     "output_type": "error",
     "traceback": [
      "\u001b[1;31m---------------------------------------------------------------------------\u001b[0m",
      "\u001b[1;31mNameError\u001b[0m                                 Traceback (most recent call last)",
      "\u001b[1;32m<ipython-input-14-e9b6e5cccb0c>\u001b[0m in \u001b[0;36m<module>\u001b[1;34m()\u001b[0m\n\u001b[0;32m     38\u001b[0m \u001b[0mTotal\u001b[0m \u001b[0mrevenue\u001b[0m \u001b[1;33m=\u001b[0m \u001b[1;33m{\u001b[0m\u001b[1;33m}\u001b[0m\u001b[1;33m\u001b[0m\u001b[0m\n\u001b[0;32m     39\u001b[0m \u001b[0mIncome\u001b[0m \u001b[0mafter\u001b[0m \u001b[0mtax\u001b[0m \u001b[1;33m=\u001b[0m \u001b[1;33m{\u001b[0m\u001b[1;33m}\u001b[0m\u001b[1;33m\u001b[0m\u001b[0m\n\u001b[1;32m---> 40\u001b[1;33m \"\"\",bus_name,bus_type,bus_rev,balance\n\u001b[0m\u001b[0;32m     41\u001b[0m )\n\u001b[0;32m     42\u001b[0m \u001b[1;33m\u001b[0m\u001b[0m\n",
      "\u001b[1;31mNameError\u001b[0m: name 'balance' is not defined"
     ]
    }
   ],
   "source": [
    "print(\"Hello and welcome to the online taxation system.\")\n",
    "\n",
    "vat = 0.05\n",
    "it = 0.15\n",
    "cop = 0.03\n",
    "\n",
    "tax_manager = {\n",
    "\t'bus_name_rev':['business',1],\n",
    "\t'business_type':['organisation'],\n",
    "} \n",
    "\n",
    "bus_name = input(\"Hello customer, please put in your business name: \\n\")\n",
    "bus_type = input(\"Please put in your business type: \\n\")\n",
    "bus_rev = int(input(\"Please put in your revenue: \\n\"))\n",
    "\n",
    "\n",
    "tax_manager['bus_name_rev'][0] = bus_name\n",
    "tax_manager['bus_name_rev'][1] = bus_rev\n",
    "tax_manager['business_type'][0] = bus_type\n",
    "\n",
    "\n",
    "if bus_rev == 'enterprise':\n",
    "    balance = int(tax_manager['bus_name_rev'][1] * vat)\n",
    "\n",
    "elif bus_rev == 'company':\n",
    "    balance = int(tax_manager['bus_name_rev'][1] * vat * it)\n",
    "\n",
    "elif bus_rev == 'corporation':\n",
    "    balance = int(tax_manager['bus_name_rev'][1] * vat * it * cop)\n",
    "\n",
    "else:\n",
    "    print(\"Invalid input. Please try again.\")\n",
    "\n",
    "print(\"\"\"\n",
    "Business type: {}\n",
    "Tax summary for {}\n",
    "---------------------------\n",
    "Total revenue = {}\n",
    "Income after tax = {}\n",
    "\"\"\",bus_name,bus_type,bus_rev,balance\n",
    ")\n",
    "\n",
    "input()\n"
   ]
  },
  {
   "cell_type": "code",
   "execution_count": null,
   "metadata": {},
   "outputs": [],
   "source": []
  }
 ],
 "metadata": {
  "kernelspec": {
   "display_name": "Python 3",
   "language": "python",
   "name": "python3"
  }
 },
 "nbformat": 4,
 "nbformat_minor": 2
}
