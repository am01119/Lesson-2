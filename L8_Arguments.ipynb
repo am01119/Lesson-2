{
 "cells": [
  {
   "cell_type": "code",
   "execution_count": null,
   "metadata": {},
   "outputs": [],
   "source": [
    "def num_min(*args):\n",
    "    min_n = min(args)\n",
    "    return min_n"
   ]
  },
  {
   "cell_type": "code",
   "execution_count": null,
   "metadata": {},
   "outputs": [],
   "source": [
    "num_min(72,19,24,37,24)"
   ]
  },
  {
   "cell_type": "code",
   "execution_count": null,
   "metadata": {},
   "outputs": [],
   "source": [
    "def dev(*args):\n",
    "    import statistics\n",
    "    stdv = statistics.stdev(args)\n",
    "    if stdv >= 5:\n",
    "        print (f\"THE TEMPERATURE IS {stdv} \\nIT IS AT A DANGEROUS LEVEL\")\n",
    "    else:\n",
    "        print (\"The temperature is {stdv} \\nOptimal temperature\")\n",
    "    return stdv\n",
    "    "
   ]
  },
  {
   "cell_type": "code",
   "execution_count": null,
   "metadata": {},
   "outputs": [],
   "source": [
    "dev(39,30,38,40,29)\n",
    " "
   ]
  },
  {
   "cell_type": "code",
   "execution_count": null,
   "metadata": {},
   "outputs": [],
   "source": [
    "#user, tweet and status (published or not)\n",
    "#Tweet mustn't be more than 140 chars, must not contain \"government\", \"sars\", \"buhari\""
   ]
  },
  {
   "cell_type": "code",
   "execution_count": 11,
   "metadata": {},
   "outputs": [
    {
     "name": "stdout",
     "output_type": "stream",
     "text": [
      "Please enter your username: \n",
      "alameen\n",
      "What's happening? \n",
      "haha\n"
     ]
    }
   ],
   "source": [
    "username1 = input(\"Please enter your username: \\n\")\n",
    "tweet1 = input('What\\'s happening? \\n')\n",
    "def your_name(**kwargs):\n",
    "    first = kwargs['username']\n",
    "    second = kwargs['tweet']\n",
    "    your_name(username = username1,tweet = tweet1)\n",
    "    characters = len(second)\n",
    "    if (\"government\" in tweet) or (\"buhari\" in tweet) or (\"sars\" in tweet) and characters > 140:\n",
    "        print(\"Your tweet is unacceptable\")\n",
    "    else:\n",
    "        return {f\"\"\"\n",
    "        The user's name is {first},\n",
    "        The tweet is {second},\n",
    "        The status of the tweet is 'Published'\n",
    "        \"\"\"\n",
    "        }\n"
   ]
  },
  {
   "cell_type": "code",
   "execution_count": 8,
   "metadata": {},
   "outputs": [
    {
     "name": "stdout",
     "output_type": "stream",
     "text": [
      "Please enter your username: \n",
      "alameen\n",
      "What's happening? \n",
      "the government is trash\n"
     ]
    }
   ],
   "source": [
    "username = input(\"Please enter your username: \\n\")\n",
    "tweet = input('What\\'s happening? \\n')"
   ]
  },
  {
   "cell_type": "code",
   "execution_count": 9,
   "metadata": {},
   "outputs": [
    {
     "name": "stdout",
     "output_type": "stream",
     "text": [
      "Your tweet is unacceptable\n"
     ]
    }
   ],
   "source": [
    "your_name(username = username,tweet = tweet)"
   ]
  },
  {
   "cell_type": "code",
   "execution_count": null,
   "metadata": {},
   "outputs": [],
   "source": []
  }
 ],
 "metadata": {
  "kernelspec": {
   "display_name": "Python 3",
   "language": "python",
   "name": "python3"
  },
  "language_info": {
   "codemirror_mode": {
    "name": "ipython",
    "version": 3
   },
   "file_extension": ".py",
   "mimetype": "text/x-python",
   "name": "python",
   "nbconvert_exporter": "python",
   "pygments_lexer": "ipython3",
   "version": "3.6.5"
  }
 },
 "nbformat": 4,
 "nbformat_minor": 2
}
