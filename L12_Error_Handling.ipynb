{
 "cells": [
  {
   "cell_type": "code",
   "execution_count": 3,
   "metadata": {},
   "outputs": [],
   "source": [
    "#Three main keywords for error handling\n",
    "#try: expected problematic code comes in here\n",
    "#except: this line block runs if there are errors\n",
    "#finally:this block of code works whether there is an error or not"
   ]
  },
  {
   "cell_type": "code",
   "execution_count": 4,
   "metadata": {},
   "outputs": [],
   "source": [
    "num1 = 30"
   ]
  },
  {
   "cell_type": "code",
   "execution_count": 7,
   "metadata": {},
   "outputs": [
    {
     "name": "stdout",
     "output_type": "stream",
     "text": [
      "Enter the second number: 2\n",
      "first number was 30\n",
      "32\n",
      "The sum is whatever it is.\n"
     ]
    }
   ],
   "source": [
    "try:\n",
    "    num2 = int(input('Enter the second number: '))\n",
    "    print(f'first number was {num1}')\n",
    "except ValueError:\n",
    "    print('You have a value error')\n",
    "except NameError:\n",
    "    print('You have a name error')\n",
    "finally:\n",
    "    sum_ = num1 + num2\n",
    "    print(sum_)\n",
    "    print('The sum is whatever it is.')"
   ]
  },
  {
   "cell_type": "code",
   "execution_count": 5,
   "metadata": {},
   "outputs": [
    {
     "name": "stdout",
     "output_type": "stream",
     "text": [
      "Please provide your first number: FF\n",
      "You have provided an error\n",
      "Please provide your first number: 3\n",
      "Your first number is {num_1}\n",
      "Please provide your second number: 4\n",
      "Your second number is {num_2}\n",
      "5\n",
      "6\n",
      "7\n",
      "8\n",
      "9\n",
      "10\n",
      "11\n",
      "12\n"
     ]
    }
   ],
   "source": [
    "try:\n",
    "    num_1 = int(input('Please provide your first number: '))\n",
    "    print('Your first number is {num_1}')  \n",
    "    \n",
    "    num_2 = int(input('Please provide your second number: '))\n",
    "    print('Your second number is {num_2}')\n",
    "    diff = num_2-num_1\n",
    "\n",
    "    sequences = 3\n",
    "    while sequences <= 10:\n",
    "        num_2 = num_2 + diff\n",
    "        print(num_2)\n",
    "        sequences += 1\n",
    "except ValueError:\n",
    "    print('You have provided an error')\n",
    "    try:\n",
    "        num_1 = int(input('Please provide your first number: '))\n",
    "        print('Your first number is {num_1}')  \n",
    "\n",
    "        num_2 = int(input('Please provide your second number: '))\n",
    "        print('Your second number is {num_2}')\n",
    "        diff = num_2-num_1\n",
    "\n",
    "        sequences = 3\n",
    "        while sequences <= 10:\n",
    "            num_2 = num_2 + diff\n",
    "            print(num_2)\n",
    "            sequences += 1 \n",
    "    except ValueError:\n",
    "            print('You have provided a value error.')\n"
   ]
  },
  {
   "cell_type": "code",
   "execution_count": null,
   "metadata": {},
   "outputs": [],
   "source": []
  }
 ],
 "metadata": {
  "kernelspec": {
   "display_name": "Python 3",
   "language": "python",
   "name": "python3"
  },
  "language_info": {
   "codemirror_mode": {
    "name": "ipython",
    "version": 3
   },
   "file_extension": ".py",
   "mimetype": "text/x-python",
   "name": "python",
   "nbconvert_exporter": "python",
   "pygments_lexer": "ipython3",
   "version": "3.6.5"
  }
 },
 "nbformat": 4,
 "nbformat_minor": 2
}
