{
 "cells": [
  {
   "cell_type": "code",
   "execution_count": 5,
   "metadata": {},
   "outputs": [],
   "source": [
    "#Integers \n",
    "#Floats\n",
    "#Math operations\n",
    "#Strings\n",
    "#Variables\n",
    "\n",
    "#Rules for naming variables.\n",
    "\n",
    "#Never start with a number \n",
    "#Never have a space in between names\n",
    "#Can use \"-\" or \"_\"\n",
    "#Never use special characters like @ and #"
   ]
  },
  {
   "cell_type": "code",
   "execution_count": 4,
   "metadata": {},
   "outputs": [
    {
     "data": {
      "text/plain": [
       "67.2"
      ]
     },
     "execution_count": 4,
     "metadata": {},
     "output_type": "execute_result"
    }
   ],
   "source": [
    "#Strings are any characters or group of characters\n",
    ">>> \"men\"\n",
    "'men'\n",
    ">>> \"this is a character\"\n",
    "'this is a character'\n",
    "\n",
    "#these are integers\n",
    "45\n",
    "23\n",
    "\n",
    "#these are floats \n",
    "67.2\n",
    "\n",
    "#Booleans is just True or False"
   ]
  },
  {
   "cell_type": "code",
   "execution_count": null,
   "metadata": {},
   "outputs": [],
   "source": [
    "#Variables\n",
    "\n",
    "number = 500\n",
    "\n",
    "number_2 = 40.5\n",
    "\n",
    "my_school = \"National Open University of Nigeria\"\n",
    "\n",
    "my_city = \"Abuja\"\n",
    "\n",
    "name_1,name_2 = 23,45\n",
    "\n",
    "% sign is modulus. It is used to find the remainder in an equation.\n",
    "e.g 10%3 should be equals to 1\n",
    "\n",
    "** is power sign.\n",
    "e.g 2**3should be 8"
   ]
  },
  {
   "cell_type": "code",
   "execution_count": 14,
   "metadata": {},
   "outputs": [],
   "source": [
    "#The next line will show my raw code\n",
    "code = \"code = \\\"This is the code\\\"\"\n",
    "\n",
    "story = \"\"\"So basically we are trying to understand\n",
    "how to bring a lengthy sentence into the next line without\n",
    "getting an error from python.\n",
    "\"\"\"\n",
    "\n",
    "#Use print statement to get answer"
   ]
  },
  {
   "cell_type": "code",
   "execution_count": 17,
   "metadata": {},
   "outputs": [
    {
     "name": "stdout",
     "output_type": "stream",
     "text": [
      "So basically we are trying to understand\n",
      "how to bring a lengthy sentence into the next line without\n",
      "getting an error from python.\n",
      "\n"
     ]
    }
   ],
   "source": [
    "print(story)"
   ]
  },
  {
   "cell_type": "code",
   "execution_count": null,
   "metadata": {},
   "outputs": [],
   "source": []
  }
 ],
 "metadata": {
  "kernelspec": {
   "display_name": "Python 3",
   "language": "python",
   "name": "python3"
  },
  "language_info": {
   "codemirror_mode": {
    "name": "ipython",
    "version": 3
   },
   "file_extension": ".py",
   "mimetype": "text/x-python",
   "name": "python",
   "nbconvert_exporter": "python",
   "pygments_lexer": "ipython3",
   "version": "3.6.5"
  }
 },
 "nbformat": 4,
 "nbformat_minor": 2
}
